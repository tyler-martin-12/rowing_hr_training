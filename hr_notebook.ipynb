{
 "cells": [
  {
   "cell_type": "code",
   "execution_count": 196,
   "metadata": {},
   "outputs": [],
   "source": [
    "import pandas as pd\n",
    "import numpy as np\n",
    "from datetime import datetime\n",
    "from datetime import timedelta\n",
    "\n",
    "import matplotlib.pyplot as plt\n",
    "from matplotlib.font_manager import FontProperties\n",
    "import matplotlib.pylab as pylab\n",
    "#%matplotlib inline\n",
    "\n",
    "from os import listdir\n",
    "from os.path import isfile, join\n",
    "\n",
    "import os\n",
    "import imageio"
   ]
  },
  {
   "cell_type": "code",
   "execution_count": 2,
   "metadata": {},
   "outputs": [],
   "source": [
    "plt = None"
   ]
  },
  {
   "cell_type": "code",
   "execution_count": 440,
   "metadata": {},
   "outputs": [],
   "source": [
    "path = '/Users/tyler/Documents/programming/hr/from_log/to_csv.csv'\n",
    "path = '/Users/tyler/Documents/programming/hr/from_log/all.csv'\n",
    "path = '/Users/tyler/Documents/programming/hr/jun_6_data.csv'"
   ]
  },
  {
   "cell_type": "code",
   "execution_count": 441,
   "metadata": {},
   "outputs": [
    {
     "data": {
      "text/html": [
       "<div>\n",
       "<style scoped>\n",
       "    .dataframe tbody tr th:only-of-type {\n",
       "        vertical-align: middle;\n",
       "    }\n",
       "\n",
       "    .dataframe tbody tr th {\n",
       "        vertical-align: top;\n",
       "    }\n",
       "\n",
       "    .dataframe thead th {\n",
       "        text-align: right;\n",
       "    }\n",
       "</style>\n",
       "<table border=\"1\" class=\"dataframe\">\n",
       "  <thead>\n",
       "    <tr style=\"text-align: right;\">\n",
       "      <th></th>\n",
       "      <th>day</th>\n",
       "      <th>date</th>\n",
       "      <th>distance</th>\n",
       "      <th>time</th>\n",
       "      <th>hr</th>\n",
       "      <th>rate</th>\n",
       "      <th>pace</th>\n",
       "    </tr>\n",
       "  </thead>\n",
       "  <tbody>\n",
       "    <tr>\n",
       "      <th>0</th>\n",
       "      <td>Tuesday</td>\n",
       "      <td>1/1/2019</td>\n",
       "      <td>10253</td>\n",
       "      <td>45</td>\n",
       "      <td>158.0</td>\n",
       "      <td>19</td>\n",
       "      <td>131.7</td>\n",
       "    </tr>\n",
       "    <tr>\n",
       "      <th>1</th>\n",
       "      <td>Tuesday</td>\n",
       "      <td>1/1/2019</td>\n",
       "      <td>10227</td>\n",
       "      <td>45</td>\n",
       "      <td>158.0</td>\n",
       "      <td>19</td>\n",
       "      <td>132.0</td>\n",
       "    </tr>\n",
       "    <tr>\n",
       "      <th>2</th>\n",
       "      <td>Wednesday</td>\n",
       "      <td>1/2/2019</td>\n",
       "      <td>10274</td>\n",
       "      <td>45</td>\n",
       "      <td>159.0</td>\n",
       "      <td>19</td>\n",
       "      <td>131.4</td>\n",
       "    </tr>\n",
       "    <tr>\n",
       "      <th>3</th>\n",
       "      <td>Thursday</td>\n",
       "      <td>1/3/2019</td>\n",
       "      <td>10274</td>\n",
       "      <td>45</td>\n",
       "      <td>159.0</td>\n",
       "      <td>19</td>\n",
       "      <td>131.4</td>\n",
       "    </tr>\n",
       "    <tr>\n",
       "      <th>4</th>\n",
       "      <td>Saturday</td>\n",
       "      <td>1/5/2019</td>\n",
       "      <td>10119</td>\n",
       "      <td>45</td>\n",
       "      <td>154.0</td>\n",
       "      <td>19</td>\n",
       "      <td>133.4</td>\n",
       "    </tr>\n",
       "  </tbody>\n",
       "</table>\n",
       "</div>"
      ],
      "text/plain": [
       "         day      date  distance  time     hr  rate   pace\n",
       "0    Tuesday  1/1/2019     10253    45  158.0    19  131.7\n",
       "1    Tuesday  1/1/2019     10227    45  158.0    19  132.0\n",
       "2  Wednesday  1/2/2019     10274    45  159.0    19  131.4\n",
       "3   Thursday  1/3/2019     10274    45  159.0    19  131.4\n",
       "4   Saturday  1/5/2019     10119    45  154.0    19  133.4"
      ]
     },
     "execution_count": 441,
     "metadata": {},
     "output_type": "execute_result"
    }
   ],
   "source": [
    "df_raw = pd.read_csv(path)\n",
    "df_raw.head()"
   ]
  },
  {
   "cell_type": "code",
   "execution_count": 442,
   "metadata": {},
   "outputs": [],
   "source": [
    "## only time = 45 min\n",
    "df = df_raw[df_raw['time'] == 45]\n",
    "\n",
    "## drop rows where hr = Nan\n",
    "df = df.copy().dropna()"
   ]
  },
  {
   "cell_type": "code",
   "execution_count": 443,
   "metadata": {},
   "outputs": [],
   "source": [
    "#df.head(30)"
   ]
  },
  {
   "cell_type": "code",
   "execution_count": 586,
   "metadata": {},
   "outputs": [],
   "source": [
    "def str_to_date(string):\n",
    "    x = datetime.strptime(string, '%m/%d/%Y')\n",
    "    return datetime.date(x)\n",
    "\n",
    "def date_to_str(this_dt):\n",
    "    x = datetime.strftime(this_dt, '%m/%d/%Y')\n",
    "    return x\n",
    "\n",
    "def find_diff(dates):\n",
    "    this_max = max(dates)\n",
    "    return [(this_max - d).days for d in dates]\n",
    "\n",
    "def alpha_list(dates_diff):\n",
    "    alpha_min = .2\n",
    "    alpha_max = 1\n",
    "    \n",
    "    max_diff = max(dates_diff)\n",
    "    \n",
    "    this_list = []\n",
    "    \n",
    "    for d in dates_diff:\n",
    "        if d == 0:\n",
    "            x = alpha_max\n",
    "        else:\n",
    "            x =  1 - d / 14\n",
    "            if x < alpha_min:\n",
    "                x =  alpha_min\n",
    "        this_list.append(x)\n",
    "    \n",
    "    return np.asarray(this_list)\n",
    "\n",
    "def gen_alpha(df):\n",
    "    x = find_diff(df['datetime'])\n",
    "    column = alpha_list(x)\n",
    "    return column\n",
    "\n",
    "def gen_alpha_new_new(df,num_to_highlight):\n",
    "    df_len = len(df)\n",
    "    column = np.ones(df_len) * .2\n",
    "    if num_to_highlight > 0:\n",
    "        column[-num_to_highlight:] = 1\n",
    "    return column\n",
    "\n",
    "def gen_alpha_new(df):\n",
    "    df_len = len(df)\n",
    "    column = np.ones(df_len) * .2\n",
    "    column[-1:] = 1\n",
    "    return column"
   ]
  },
  {
   "cell_type": "code",
   "execution_count": 461,
   "metadata": {},
   "outputs": [
    {
     "data": {
      "text/html": [
       "<div>\n",
       "<style scoped>\n",
       "    .dataframe tbody tr th:only-of-type {\n",
       "        vertical-align: middle;\n",
       "    }\n",
       "\n",
       "    .dataframe tbody tr th {\n",
       "        vertical-align: top;\n",
       "    }\n",
       "\n",
       "    .dataframe thead th {\n",
       "        text-align: right;\n",
       "    }\n",
       "</style>\n",
       "<table border=\"1\" class=\"dataframe\">\n",
       "  <thead>\n",
       "    <tr style=\"text-align: right;\">\n",
       "      <th></th>\n",
       "      <th>day</th>\n",
       "      <th>date</th>\n",
       "      <th>distance</th>\n",
       "      <th>time</th>\n",
       "      <th>hr</th>\n",
       "      <th>rate</th>\n",
       "      <th>pace</th>\n",
       "      <th>datetime</th>\n",
       "      <th>date_sting</th>\n",
       "    </tr>\n",
       "  </thead>\n",
       "  <tbody>\n",
       "    <tr>\n",
       "      <th>0</th>\n",
       "      <td>Tuesday</td>\n",
       "      <td>1/1/2019</td>\n",
       "      <td>10253</td>\n",
       "      <td>45</td>\n",
       "      <td>158.0</td>\n",
       "      <td>19</td>\n",
       "      <td>131.7</td>\n",
       "      <td>2019-01-01</td>\n",
       "      <td>01m/01d/2019</td>\n",
       "    </tr>\n",
       "    <tr>\n",
       "      <th>1</th>\n",
       "      <td>Tuesday</td>\n",
       "      <td>1/1/2019</td>\n",
       "      <td>10227</td>\n",
       "      <td>45</td>\n",
       "      <td>158.0</td>\n",
       "      <td>19</td>\n",
       "      <td>132.0</td>\n",
       "      <td>2019-01-01</td>\n",
       "      <td>01m/01d/2019</td>\n",
       "    </tr>\n",
       "    <tr>\n",
       "      <th>2</th>\n",
       "      <td>Wednesday</td>\n",
       "      <td>1/2/2019</td>\n",
       "      <td>10274</td>\n",
       "      <td>45</td>\n",
       "      <td>159.0</td>\n",
       "      <td>19</td>\n",
       "      <td>131.4</td>\n",
       "      <td>2019-01-02</td>\n",
       "      <td>01m/02d/2019</td>\n",
       "    </tr>\n",
       "    <tr>\n",
       "      <th>3</th>\n",
       "      <td>Thursday</td>\n",
       "      <td>1/3/2019</td>\n",
       "      <td>10274</td>\n",
       "      <td>45</td>\n",
       "      <td>159.0</td>\n",
       "      <td>19</td>\n",
       "      <td>131.4</td>\n",
       "      <td>2019-01-03</td>\n",
       "      <td>01m/03d/2019</td>\n",
       "    </tr>\n",
       "    <tr>\n",
       "      <th>4</th>\n",
       "      <td>Saturday</td>\n",
       "      <td>1/5/2019</td>\n",
       "      <td>10119</td>\n",
       "      <td>45</td>\n",
       "      <td>154.0</td>\n",
       "      <td>19</td>\n",
       "      <td>133.4</td>\n",
       "      <td>2019-01-05</td>\n",
       "      <td>01m/05d/2019</td>\n",
       "    </tr>\n",
       "  </tbody>\n",
       "</table>\n",
       "</div>"
      ],
      "text/plain": [
       "         day      date  distance  time     hr  rate   pace    datetime  \\\n",
       "0    Tuesday  1/1/2019     10253    45  158.0    19  131.7  2019-01-01   \n",
       "1    Tuesday  1/1/2019     10227    45  158.0    19  132.0  2019-01-01   \n",
       "2  Wednesday  1/2/2019     10274    45  159.0    19  131.4  2019-01-02   \n",
       "3   Thursday  1/3/2019     10274    45  159.0    19  131.4  2019-01-03   \n",
       "4   Saturday  1/5/2019     10119    45  154.0    19  133.4  2019-01-05   \n",
       "\n",
       "     date_sting  \n",
       "0  01m/01d/2019  \n",
       "1  01m/01d/2019  \n",
       "2  01m/02d/2019  \n",
       "3  01m/03d/2019  \n",
       "4  01m/05d/2019  "
      ]
     },
     "execution_count": 461,
     "metadata": {},
     "output_type": "execute_result"
    }
   ],
   "source": [
    "df.head()"
   ]
  },
  {
   "cell_type": "code",
   "execution_count": 462,
   "metadata": {},
   "outputs": [
    {
     "data": {
      "text/plain": [
       "array([0.2, 0.2, 0.2, 0.2, 0.2, 0.2, 0.2, 0.2, 0.2, 0.2, 0.2, 0.2, 0.2,\n",
       "       0.2, 0.2, 0.2, 0.2, 0.2, 0.2, 0.2, 0.2, 0.2, 0.2, 0.2, 0.2, 0.2,\n",
       "       0.2, 0.2, 0.2, 0.2, 0.2, 0.2, 0.2, 0.2, 0.2, 0.2, 0.2, 0.2, 0.2,\n",
       "       0.2, 0.2, 0.2, 0.2, 0.2, 0.2, 0.2, 0.2, 0.2, 0.2, 0.2, 0.2, 0.2,\n",
       "       0.2, 1. ])"
      ]
     },
     "execution_count": 462,
     "metadata": {},
     "output_type": "execute_result"
    }
   ],
   "source": [
    "x = gen_alpha_new(df)\n",
    "x"
   ]
  },
  {
   "cell_type": "code",
   "execution_count": 463,
   "metadata": {},
   "outputs": [],
   "source": [
    "x = pd.Series([str_to_date(d) for d in df['date']])\n",
    "df['datetime'] = x.values"
   ]
  },
  {
   "cell_type": "code",
   "execution_count": 466,
   "metadata": {},
   "outputs": [],
   "source": [
    "df['date_string'] = df['datetime'].apply(date_to_str)"
   ]
  },
  {
   "cell_type": "code",
   "execution_count": 467,
   "metadata": {},
   "outputs": [
    {
     "data": {
      "text/html": [
       "<div>\n",
       "<style scoped>\n",
       "    .dataframe tbody tr th:only-of-type {\n",
       "        vertical-align: middle;\n",
       "    }\n",
       "\n",
       "    .dataframe tbody tr th {\n",
       "        vertical-align: top;\n",
       "    }\n",
       "\n",
       "    .dataframe thead th {\n",
       "        text-align: right;\n",
       "    }\n",
       "</style>\n",
       "<table border=\"1\" class=\"dataframe\">\n",
       "  <thead>\n",
       "    <tr style=\"text-align: right;\">\n",
       "      <th></th>\n",
       "      <th>day</th>\n",
       "      <th>date</th>\n",
       "      <th>distance</th>\n",
       "      <th>time</th>\n",
       "      <th>hr</th>\n",
       "      <th>rate</th>\n",
       "      <th>pace</th>\n",
       "      <th>datetime</th>\n",
       "      <th>date_sting</th>\n",
       "      <th>date_string</th>\n",
       "    </tr>\n",
       "  </thead>\n",
       "  <tbody>\n",
       "    <tr>\n",
       "      <th>0</th>\n",
       "      <td>Tuesday</td>\n",
       "      <td>1/1/2019</td>\n",
       "      <td>10253</td>\n",
       "      <td>45</td>\n",
       "      <td>158.0</td>\n",
       "      <td>19</td>\n",
       "      <td>131.7</td>\n",
       "      <td>2019-01-01</td>\n",
       "      <td>01/01/2019</td>\n",
       "      <td>01/01/2019</td>\n",
       "    </tr>\n",
       "    <tr>\n",
       "      <th>1</th>\n",
       "      <td>Tuesday</td>\n",
       "      <td>1/1/2019</td>\n",
       "      <td>10227</td>\n",
       "      <td>45</td>\n",
       "      <td>158.0</td>\n",
       "      <td>19</td>\n",
       "      <td>132.0</td>\n",
       "      <td>2019-01-01</td>\n",
       "      <td>01/01/2019</td>\n",
       "      <td>01/01/2019</td>\n",
       "    </tr>\n",
       "    <tr>\n",
       "      <th>2</th>\n",
       "      <td>Wednesday</td>\n",
       "      <td>1/2/2019</td>\n",
       "      <td>10274</td>\n",
       "      <td>45</td>\n",
       "      <td>159.0</td>\n",
       "      <td>19</td>\n",
       "      <td>131.4</td>\n",
       "      <td>2019-01-02</td>\n",
       "      <td>01/02/2019</td>\n",
       "      <td>01/02/2019</td>\n",
       "    </tr>\n",
       "    <tr>\n",
       "      <th>3</th>\n",
       "      <td>Thursday</td>\n",
       "      <td>1/3/2019</td>\n",
       "      <td>10274</td>\n",
       "      <td>45</td>\n",
       "      <td>159.0</td>\n",
       "      <td>19</td>\n",
       "      <td>131.4</td>\n",
       "      <td>2019-01-03</td>\n",
       "      <td>01/03/2019</td>\n",
       "      <td>01/03/2019</td>\n",
       "    </tr>\n",
       "    <tr>\n",
       "      <th>4</th>\n",
       "      <td>Saturday</td>\n",
       "      <td>1/5/2019</td>\n",
       "      <td>10119</td>\n",
       "      <td>45</td>\n",
       "      <td>154.0</td>\n",
       "      <td>19</td>\n",
       "      <td>133.4</td>\n",
       "      <td>2019-01-05</td>\n",
       "      <td>01/05/2019</td>\n",
       "      <td>01/05/2019</td>\n",
       "    </tr>\n",
       "  </tbody>\n",
       "</table>\n",
       "</div>"
      ],
      "text/plain": [
       "         day      date  distance  time     hr  rate   pace    datetime  \\\n",
       "0    Tuesday  1/1/2019     10253    45  158.0    19  131.7  2019-01-01   \n",
       "1    Tuesday  1/1/2019     10227    45  158.0    19  132.0  2019-01-01   \n",
       "2  Wednesday  1/2/2019     10274    45  159.0    19  131.4  2019-01-02   \n",
       "3   Thursday  1/3/2019     10274    45  159.0    19  131.4  2019-01-03   \n",
       "4   Saturday  1/5/2019     10119    45  154.0    19  133.4  2019-01-05   \n",
       "\n",
       "   date_sting date_string  \n",
       "0  01/01/2019  01/01/2019  \n",
       "1  01/01/2019  01/01/2019  \n",
       "2  01/02/2019  01/02/2019  \n",
       "3  01/03/2019  01/03/2019  \n",
       "4  01/05/2019  01/05/2019  "
      ]
     },
     "execution_count": 467,
     "metadata": {},
     "output_type": "execute_result"
    }
   ],
   "source": [
    "df.head()"
   ]
  },
  {
   "cell_type": "code",
   "execution_count": 48,
   "metadata": {},
   "outputs": [],
   "source": [
    "x = find_diff(df['datetime'])\n",
    "df['alpha'] = alpha_list(x)"
   ]
  },
  {
   "cell_type": "code",
   "execution_count": null,
   "metadata": {},
   "outputs": [],
   "source": []
  },
  {
   "cell_type": "code",
   "execution_count": null,
   "metadata": {},
   "outputs": [],
   "source": []
  },
  {
   "cell_type": "code",
   "execution_count": 67,
   "metadata": {},
   "outputs": [
    {
     "data": {
      "image/png": "[encoded data removed]",
      "text/plain": [
       "<Figure size 720x504 with 1 Axes>"
      ]
     },
     "metadata": {
      "needs_background": "light"
     },
     "output_type": "display_data"
    }
   ],
   "source": [
    "## customize plot\n",
    "#fig = None\n",
    "\n",
    "\n",
    "x = df['distance']\n",
    "y = df['hr']\n",
    "\n",
    "alphas = np.asarray(df['alpha'])\n",
    "rgba_colors = np.zeros((data_len,4))\n",
    "rgba_colors[:,0] = 1.0\n",
    "rgba_colors[:, 3] = alphas\n",
    "\n",
    "\n",
    "plt.scatter(x, y, color=rgba_colors)\n",
    "\n",
    "\n",
    "\n",
    "data_len = len(df['hr'])\n",
    "\n",
    "#plt.ylim([150,164])\n",
    "plt.ylabel('Average Heart Rate')\n",
    "\n",
    "#plt.xlim([10600,11100])\n",
    "plt.xlabel('Meters in 45 min')\n",
    "\n",
    "plt.rcParams['axes.facecolor'] = 'white'\n",
    "plt.rcParams['axes.edgecolor'] = 'black'\n",
    "plt.rcParams['grid.alpha'] = 1\n",
    "plt.rcParams['grid.color'] = \"#cccccc\"\n",
    "plt.grid(True)\n",
    "\n",
    "params = {'legend.fontsize': 'large',\n",
    "          'figure.figsize': (15, 5),\n",
    "         'axes.labelsize': 'large',\n",
    "         'axes.titlesize':'large',\n",
    "         'xtick.labelsize':'large',\n",
    "         'ytick.labelsize':'large'}\n",
    "\n",
    "pylab.rcParams.update(params)\n",
    "\n",
    "\n",
    "#plt.scatter(x, y, color=rgba_colors)\n",
    "\n",
    "\n",
    "fig = plt.gcf()\n",
    "fig.set_size_inches(10, 7)\n",
    "\n",
    "#fig.savefig('test2png.png', dpi=100)"
   ]
  },
  {
   "cell_type": "code",
   "execution_count": 450,
   "metadata": {},
   "outputs": [
    {
     "data": {
      "text/html": [
       "<div>\n",
       "<style scoped>\n",
       "    .dataframe tbody tr th:only-of-type {\n",
       "        vertical-align: middle;\n",
       "    }\n",
       "\n",
       "    .dataframe tbody tr th {\n",
       "        vertical-align: top;\n",
       "    }\n",
       "\n",
       "    .dataframe thead th {\n",
       "        text-align: right;\n",
       "    }\n",
       "</style>\n",
       "<table border=\"1\" class=\"dataframe\">\n",
       "  <thead>\n",
       "    <tr style=\"text-align: right;\">\n",
       "      <th></th>\n",
       "      <th>day</th>\n",
       "      <th>date</th>\n",
       "      <th>distance</th>\n",
       "      <th>time</th>\n",
       "      <th>hr</th>\n",
       "      <th>rate</th>\n",
       "      <th>pace</th>\n",
       "    </tr>\n",
       "  </thead>\n",
       "  <tbody>\n",
       "    <tr>\n",
       "      <th>0</th>\n",
       "      <td>Tuesday</td>\n",
       "      <td>1/1/2019</td>\n",
       "      <td>10253</td>\n",
       "      <td>45</td>\n",
       "      <td>158.0</td>\n",
       "      <td>19</td>\n",
       "      <td>131.7</td>\n",
       "    </tr>\n",
       "    <tr>\n",
       "      <th>1</th>\n",
       "      <td>Tuesday</td>\n",
       "      <td>1/1/2019</td>\n",
       "      <td>10227</td>\n",
       "      <td>45</td>\n",
       "      <td>158.0</td>\n",
       "      <td>19</td>\n",
       "      <td>132.0</td>\n",
       "    </tr>\n",
       "    <tr>\n",
       "      <th>2</th>\n",
       "      <td>Wednesday</td>\n",
       "      <td>1/2/2019</td>\n",
       "      <td>10274</td>\n",
       "      <td>45</td>\n",
       "      <td>159.0</td>\n",
       "      <td>19</td>\n",
       "      <td>131.4</td>\n",
       "    </tr>\n",
       "    <tr>\n",
       "      <th>3</th>\n",
       "      <td>Thursday</td>\n",
       "      <td>1/3/2019</td>\n",
       "      <td>10274</td>\n",
       "      <td>45</td>\n",
       "      <td>159.0</td>\n",
       "      <td>19</td>\n",
       "      <td>131.4</td>\n",
       "    </tr>\n",
       "    <tr>\n",
       "      <th>4</th>\n",
       "      <td>Saturday</td>\n",
       "      <td>1/5/2019</td>\n",
       "      <td>10119</td>\n",
       "      <td>45</td>\n",
       "      <td>154.0</td>\n",
       "      <td>19</td>\n",
       "      <td>133.4</td>\n",
       "    </tr>\n",
       "    <tr>\n",
       "      <th>5</th>\n",
       "      <td>Sunday</td>\n",
       "      <td>1/6/2019</td>\n",
       "      <td>10182</td>\n",
       "      <td>45</td>\n",
       "      <td>153.0</td>\n",
       "      <td>19</td>\n",
       "      <td>132.6</td>\n",
       "    </tr>\n",
       "  </tbody>\n",
       "</table>\n",
       "</div>"
      ],
      "text/plain": [
       "         day      date  distance  time     hr  rate   pace\n",
       "0    Tuesday  1/1/2019     10253    45  158.0    19  131.7\n",
       "1    Tuesday  1/1/2019     10227    45  158.0    19  132.0\n",
       "2  Wednesday  1/2/2019     10274    45  159.0    19  131.4\n",
       "3   Thursday  1/3/2019     10274    45  159.0    19  131.4\n",
       "4   Saturday  1/5/2019     10119    45  154.0    19  133.4\n",
       "5     Sunday  1/6/2019     10182    45  153.0    19  132.6"
      ]
     },
     "execution_count": 450,
     "metadata": {},
     "output_type": "execute_result"
    }
   ],
   "source": [
    "df[:6]"
   ]
  },
  {
   "cell_type": "code",
   "execution_count": null,
   "metadata": {},
   "outputs": [],
   "source": []
  },
  {
   "cell_type": "code",
   "execution_count": null,
   "metadata": {},
   "outputs": [],
   "source": []
  },
  {
   "cell_type": "code",
   "execution_count": 61,
   "metadata": {},
   "outputs": [],
   "source": [
    "#gen_alpha(this_df)"
   ]
  },
  {
   "cell_type": "code",
   "execution_count": null,
   "metadata": {},
   "outputs": [],
   "source": []
  },
  {
   "cell_type": "code",
   "execution_count": 63,
   "metadata": {},
   "outputs": [
    {
     "name": "stderr",
     "output_type": "stream",
     "text": [
      "/Users/tyler/anaconda3/lib/python3.6/site-packages/ipykernel_launcher.py:4: SettingWithCopyWarning: \n",
      "A value is trying to be set on a copy of a slice from a DataFrame.\n",
      "Try using .loc[row_indexer,col_indexer] = value instead\n",
      "\n",
      "See the caveats in the documentation: http://pandas.pydata.org/pandas-docs/stable/indexing.html#indexing-view-versus-copy\n",
      "  after removing the cwd from sys.path.\n"
     ]
    }
   ],
   "source": [
    "## in loop\n",
    "i = 5\n",
    "this_df = df[:i]\n",
    "this_df['alpha'] = gen_alpha(this_df)"
   ]
  },
  {
   "cell_type": "code",
   "execution_count": 449,
   "metadata": {},
   "outputs": [
    {
     "data": {
      "text/html": [
       "<div>\n",
       "<style scoped>\n",
       "    .dataframe tbody tr th:only-of-type {\n",
       "        vertical-align: middle;\n",
       "    }\n",
       "\n",
       "    .dataframe tbody tr th {\n",
       "        vertical-align: top;\n",
       "    }\n",
       "\n",
       "    .dataframe thead th {\n",
       "        text-align: right;\n",
       "    }\n",
       "</style>\n",
       "<table border=\"1\" class=\"dataframe\">\n",
       "  <thead>\n",
       "    <tr style=\"text-align: right;\">\n",
       "      <th></th>\n",
       "      <th>day</th>\n",
       "      <th>date</th>\n",
       "      <th>distance</th>\n",
       "      <th>time</th>\n",
       "      <th>hr</th>\n",
       "      <th>rate</th>\n",
       "      <th>pace</th>\n",
       "    </tr>\n",
       "  </thead>\n",
       "  <tbody>\n",
       "    <tr>\n",
       "      <th>0</th>\n",
       "      <td>Tuesday</td>\n",
       "      <td>1/1/2019</td>\n",
       "      <td>10253</td>\n",
       "      <td>45</td>\n",
       "      <td>158.0</td>\n",
       "      <td>19</td>\n",
       "      <td>131.7</td>\n",
       "    </tr>\n",
       "    <tr>\n",
       "      <th>1</th>\n",
       "      <td>Tuesday</td>\n",
       "      <td>1/1/2019</td>\n",
       "      <td>10227</td>\n",
       "      <td>45</td>\n",
       "      <td>158.0</td>\n",
       "      <td>19</td>\n",
       "      <td>132.0</td>\n",
       "    </tr>\n",
       "    <tr>\n",
       "      <th>2</th>\n",
       "      <td>Wednesday</td>\n",
       "      <td>1/2/2019</td>\n",
       "      <td>10274</td>\n",
       "      <td>45</td>\n",
       "      <td>159.0</td>\n",
       "      <td>19</td>\n",
       "      <td>131.4</td>\n",
       "    </tr>\n",
       "    <tr>\n",
       "      <th>3</th>\n",
       "      <td>Thursday</td>\n",
       "      <td>1/3/2019</td>\n",
       "      <td>10274</td>\n",
       "      <td>45</td>\n",
       "      <td>159.0</td>\n",
       "      <td>19</td>\n",
       "      <td>131.4</td>\n",
       "    </tr>\n",
       "    <tr>\n",
       "      <th>4</th>\n",
       "      <td>Saturday</td>\n",
       "      <td>1/5/2019</td>\n",
       "      <td>10119</td>\n",
       "      <td>45</td>\n",
       "      <td>154.0</td>\n",
       "      <td>19</td>\n",
       "      <td>133.4</td>\n",
       "    </tr>\n",
       "    <tr>\n",
       "      <th>5</th>\n",
       "      <td>Sunday</td>\n",
       "      <td>1/6/2019</td>\n",
       "      <td>10182</td>\n",
       "      <td>45</td>\n",
       "      <td>153.0</td>\n",
       "      <td>19</td>\n",
       "      <td>132.6</td>\n",
       "    </tr>\n",
       "    <tr>\n",
       "      <th>6</th>\n",
       "      <td>Monday</td>\n",
       "      <td>1/7/2019</td>\n",
       "      <td>10295</td>\n",
       "      <td>45</td>\n",
       "      <td>153.0</td>\n",
       "      <td>19</td>\n",
       "      <td>131.1</td>\n",
       "    </tr>\n",
       "    <tr>\n",
       "      <th>7</th>\n",
       "      <td>Tuesday</td>\n",
       "      <td>1/8/2019</td>\n",
       "      <td>10298</td>\n",
       "      <td>45</td>\n",
       "      <td>153.0</td>\n",
       "      <td>19</td>\n",
       "      <td>131.1</td>\n",
       "    </tr>\n",
       "    <tr>\n",
       "      <th>8</th>\n",
       "      <td>Wednesday</td>\n",
       "      <td>1/9/2019</td>\n",
       "      <td>10414</td>\n",
       "      <td>45</td>\n",
       "      <td>153.0</td>\n",
       "      <td>19</td>\n",
       "      <td>129.6</td>\n",
       "    </tr>\n",
       "    <tr>\n",
       "      <th>9</th>\n",
       "      <td>Thursday</td>\n",
       "      <td>1/10/2019</td>\n",
       "      <td>10313</td>\n",
       "      <td>45</td>\n",
       "      <td>155.0</td>\n",
       "      <td>19</td>\n",
       "      <td>130.9</td>\n",
       "    </tr>\n",
       "    <tr>\n",
       "      <th>10</th>\n",
       "      <td>Saturday</td>\n",
       "      <td>1/12/2019</td>\n",
       "      <td>10430</td>\n",
       "      <td>45</td>\n",
       "      <td>153.0</td>\n",
       "      <td>20</td>\n",
       "      <td>129.4</td>\n",
       "    </tr>\n",
       "    <tr>\n",
       "      <th>11</th>\n",
       "      <td>Monday</td>\n",
       "      <td>1/14/2019</td>\n",
       "      <td>10436</td>\n",
       "      <td>45</td>\n",
       "      <td>153.0</td>\n",
       "      <td>19</td>\n",
       "      <td>129.4</td>\n",
       "    </tr>\n",
       "    <tr>\n",
       "      <th>12</th>\n",
       "      <td>Tuesday</td>\n",
       "      <td>1/15/2019</td>\n",
       "      <td>10589</td>\n",
       "      <td>45</td>\n",
       "      <td>150.0</td>\n",
       "      <td>18</td>\n",
       "      <td>127.5</td>\n",
       "    </tr>\n",
       "    <tr>\n",
       "      <th>13</th>\n",
       "      <td>Wednesday</td>\n",
       "      <td>1/16/2019</td>\n",
       "      <td>10644</td>\n",
       "      <td>45</td>\n",
       "      <td>156.0</td>\n",
       "      <td>18</td>\n",
       "      <td>126.8</td>\n",
       "    </tr>\n",
       "    <tr>\n",
       "      <th>14</th>\n",
       "      <td>Wednesday</td>\n",
       "      <td>1/23/2019</td>\n",
       "      <td>10661</td>\n",
       "      <td>45</td>\n",
       "      <td>148.0</td>\n",
       "      <td>20</td>\n",
       "      <td>126.6</td>\n",
       "    </tr>\n",
       "    <tr>\n",
       "      <th>15</th>\n",
       "      <td>Thursday</td>\n",
       "      <td>1/24/2019</td>\n",
       "      <td>10731</td>\n",
       "      <td>45</td>\n",
       "      <td>152.0</td>\n",
       "      <td>20</td>\n",
       "      <td>125.8</td>\n",
       "    </tr>\n",
       "  </tbody>\n",
       "</table>\n",
       "</div>"
      ],
      "text/plain": [
       "          day       date  distance  time     hr  rate   pace\n",
       "0     Tuesday   1/1/2019     10253    45  158.0    19  131.7\n",
       "1     Tuesday   1/1/2019     10227    45  158.0    19  132.0\n",
       "2   Wednesday   1/2/2019     10274    45  159.0    19  131.4\n",
       "3    Thursday   1/3/2019     10274    45  159.0    19  131.4\n",
       "4    Saturday   1/5/2019     10119    45  154.0    19  133.4\n",
       "5      Sunday   1/6/2019     10182    45  153.0    19  132.6\n",
       "6      Monday   1/7/2019     10295    45  153.0    19  131.1\n",
       "7     Tuesday   1/8/2019     10298    45  153.0    19  131.1\n",
       "8   Wednesday   1/9/2019     10414    45  153.0    19  129.6\n",
       "9    Thursday  1/10/2019     10313    45  155.0    19  130.9\n",
       "10   Saturday  1/12/2019     10430    45  153.0    20  129.4\n",
       "11     Monday  1/14/2019     10436    45  153.0    19  129.4\n",
       "12    Tuesday  1/15/2019     10589    45  150.0    18  127.5\n",
       "13  Wednesday  1/16/2019     10644    45  156.0    18  126.8\n",
       "14  Wednesday  1/23/2019     10661    45  148.0    20  126.6\n",
       "15   Thursday  1/24/2019     10731    45  152.0    20  125.8"
      ]
     },
     "execution_count": 449,
     "metadata": {},
     "output_type": "execute_result"
    }
   ],
   "source": [
    "df.head(16)"
   ]
  },
  {
   "cell_type": "code",
   "execution_count": 105,
   "metadata": {},
   "outputs": [
    {
     "data": {
      "image/png": "[encoded data removed]",
      "text/plain": [
       "<Figure size 576x360 with 1 Axes>"
      ]
     },
     "metadata": {
      "needs_background": "light"
     },
     "output_type": "display_data"
    }
   ],
   "source": [
    "idx = 15\n",
    "this_plot = make_plot(df,idx)"
   ]
  },
  {
   "cell_type": "code",
   "execution_count": null,
   "metadata": {},
   "outputs": [],
   "source": []
  },
  {
   "cell_type": "code",
   "execution_count": 140,
   "metadata": {},
   "outputs": [],
   "source": [
    "def make_plot(df,idx):\n",
    "    plt.ioff()\n",
    "    this_fig = None\n",
    "    df_trunc = df[:idx]\n",
    "\n",
    "    x = df_trunc['distance']\n",
    "    y = df_trunc['hr']\n",
    "    \n",
    "    data_len = len(df_trunc['hr'])\n",
    "    \n",
    "    alphas = gen_alpha_new(df_trunc)\n",
    "    \n",
    "    #alphas = np.asarray(df_trunc['alpha'])\n",
    "    rgba_colors = np.zeros((data_len,4))\n",
    "    rgba_colors[:,0] = 1.0\n",
    "    rgba_colors[:, 3] = alphas\n",
    "\n",
    "    plt.scatter(x, y, color=rgba_colors)\n",
    "\n",
    "    plt.ylim([146,164])\n",
    "    plt.ylabel('Average Heart Rate')\n",
    "\n",
    "    plt.xlim([10000,11100])\n",
    "    plt.xlabel('Meters in 45 min')\n",
    "\n",
    "    plt.rcParams['axes.facecolor'] = 'white'\n",
    "    plt.rcParams['axes.edgecolor'] = 'black'\n",
    "    plt.rcParams['grid.alpha'] = 1\n",
    "    plt.rcParams['grid.color'] = \"#cccccc\"\n",
    "    plt.grid(True)\n",
    "\n",
    "    params = {'legend.fontsize': 'large',\n",
    "              'figure.figsize': (15, 5),\n",
    "             'axes.labelsize': 'large',\n",
    "             'axes.titlesize':'large',\n",
    "             'xtick.labelsize':'large',\n",
    "             'ytick.labelsize':'large'}\n",
    "\n",
    "    pylab.rcParams.update(params)\n",
    "\n",
    "    this_fig = plt.gcf()\n",
    "    this_fig.set_size_inches(8, 5)\n",
    "    return this_fig"
   ]
  },
  {
   "cell_type": "code",
   "execution_count": 150,
   "metadata": {},
   "outputs": [],
   "source": [
    "data_len = len(df)\n",
    "#data_len = 10\n",
    "\n",
    "for idx in range(1, data_len + 1):\n",
    "    fig = make_plot(df,idx)\n",
    "    fig.savefig(f'for_gif/{idx:03d}.png', dpi=100)\n",
    "    plt.close(fig)"
   ]
  },
  {
   "cell_type": "code",
   "execution_count": null,
   "metadata": {},
   "outputs": [],
   "source": []
  },
  {
   "cell_type": "code",
   "execution_count": null,
   "metadata": {},
   "outputs": [],
   "source": []
  },
  {
   "cell_type": "code",
   "execution_count": 108,
   "metadata": {},
   "outputs": [
    {
     "data": {
      "text/plain": [
       "54"
      ]
     },
     "execution_count": 108,
     "metadata": {},
     "output_type": "execute_result"
    }
   ],
   "source": [
    "data_len"
   ]
  },
  {
   "cell_type": "code",
   "execution_count": 153,
   "metadata": {},
   "outputs": [],
   "source": [
    "def files_from_dir(a_dir):\n",
    "    onlyfiles = [f for f in listdir(a_dir) if isfile(join(a_dir, f))]\n",
    "    return onlyfiles"
   ]
  },
  {
   "cell_type": "code",
   "execution_count": 167,
   "metadata": {},
   "outputs": [],
   "source": [
    "file_list = files_from_dir('for_gif')\n",
    "file_list.sort()"
   ]
  },
  {
   "cell_type": "code",
   "execution_count": null,
   "metadata": {},
   "outputs": [],
   "source": []
  },
  {
   "cell_type": "code",
   "execution_count": 173,
   "metadata": {},
   "outputs": [],
   "source": [
    "images = []\n",
    "for file in file_list:\n",
    "    path = os.path.join('for_gif',file)\n",
    "    images.append(imageio.imread(path))\n",
    "\n",
    "imageio.mimsave('gif/demo.gif', images)"
   ]
  },
  {
   "cell_type": "code",
   "execution_count": 174,
   "metadata": {},
   "outputs": [],
   "source": [
    "## Add watts"
   ]
  },
  {
   "cell_type": "code",
   "execution_count": 470,
   "metadata": {},
   "outputs": [],
   "source": [
    "df['split'] = 45*60/(df['distance']/500)\n",
    "df['watts'] = 2.8 / (df['split']/500)**3"
   ]
  },
  {
   "cell_type": "code",
   "execution_count": 471,
   "metadata": {},
   "outputs": [
    {
     "data": {
      "text/plain": [
       "'1/1/2019'"
      ]
     },
     "execution_count": 471,
     "metadata": {},
     "output_type": "execute_result"
    }
   ],
   "source": [
    "df['date'][0]"
   ]
  },
  {
   "cell_type": "code",
   "execution_count": 484,
   "metadata": {},
   "outputs": [],
   "source": [
    "x = ['a','b','c']"
   ]
  },
  {
   "cell_type": "code",
   "execution_count": 485,
   "metadata": {},
   "outputs": [
    {
     "data": {
      "text/plain": [
       "['c']"
      ]
     },
     "execution_count": 485,
     "metadata": {},
     "output_type": "execute_result"
    }
   ],
   "source": [
    "x[-1:]"
   ]
  },
  {
   "cell_type": "code",
   "execution_count": null,
   "metadata": {},
   "outputs": [],
   "source": []
  },
  {
   "cell_type": "code",
   "execution_count": null,
   "metadata": {},
   "outputs": [],
   "source": []
  },
  {
   "cell_type": "code",
   "execution_count": 505,
   "metadata": {},
   "outputs": [],
   "source": [
    "x = df['date_string'].iloc[-1]"
   ]
  },
  {
   "cell_type": "code",
   "execution_count": 506,
   "metadata": {},
   "outputs": [
    {
     "name": "stdout",
     "output_type": "stream",
     "text": [
      "06/06/2019\n"
     ]
    }
   ],
   "source": [
    "print(x)"
   ]
  },
  {
   "cell_type": "code",
   "execution_count": null,
   "metadata": {},
   "outputs": [],
   "source": []
  },
  {
   "cell_type": "code",
   "execution_count": 537,
   "metadata": {},
   "outputs": [],
   "source": [
    "def make_plot_watts(df,idx):\n",
    "    plt.ioff()\n",
    "    \n",
    "    # data for plot\n",
    "    df_trunc = df[:idx]\n",
    "    date_string = df_trunc['date_string'].iloc[-1]\n",
    "\n",
    "    x = df_trunc['watts']\n",
    "    y = df_trunc['hr']\n",
    "    \n",
    "    data_len = len(df_trunc['hr'])\n",
    "    \n",
    "    alphas = gen_alpha_new(df_trunc)\n",
    "    \n",
    "    rgba_colors = np.zeros((data_len,4))\n",
    "    rgba_colors[:,0] = 1.0\n",
    "    rgba_colors[:, 3] = alphas\n",
    "    \n",
    "    # plot\n",
    "    #fig = plt.figure()\n",
    "    fig, ax1 = plt.subplots()\n",
    "    ax1.scatter(x, y, color=rgba_colors)\n",
    "\n",
    "    ax1.set_ylim([146,164])\n",
    "    ax1.set_ylabel('Average Heart Rate')\n",
    "\n",
    "    ax1.set_xlim([145,200])\n",
    "    ax1.set_xlabel('Average Watts in 45 min')\n",
    "    \n",
    "    ax2 = ax1.twiny()\n",
    "    ax2.set_xlabel('Meters in 45 min')\n",
    "    ax2.set_xlim(145, 200)\n",
    "    ax2.set_xticks(w)\n",
    "    ax2.set_xticklabels(d_list)\n",
    "    ax2.grid(True)\n",
    "    \n",
    "    ax1.set_title('Heart rate and power over time (rowing)')\n",
    "    ax1.yaxis.grid(which='major')\n",
    "\n",
    "\n",
    "    plt.rcParams['axes.facecolor'] = 'white'\n",
    "    plt.rcParams['axes.edgecolor'] = 'black'\n",
    "    plt.rcParams['grid.alpha'] = 1\n",
    "    plt.rcParams['grid.color'] = \"#cccccc\"\n",
    "    plt.grid(True)\n",
    "\n",
    "    params = {'axes.titlesize': 'xx-large',\n",
    "             'legend.fontsize': 'large',\n",
    "             'figure.figsize': (15, 5),\n",
    "             'axes.labelsize': 'large',\n",
    "             'xtick.labelsize':'large',\n",
    "             'ytick.labelsize':'large'}\n",
    "\n",
    "    pylab.rcParams.update(params)\n",
    "    \n",
    "    \n",
    "    textstr = date_string\n",
    "    props = dict(boxstyle='round', facecolor='wheat', alpha=1)\n",
    "\n",
    "    # place a text box in upper left in axes coords\n",
    "    ax1.text(-0.1, 1.1, textstr, transform=ax1.transAxes, fontsize=11,\n",
    "            verticalalignment='top', bbox=props)\n",
    "    \n",
    "    plt.subplots_adjust(top=0.85)     # Add space at top\n",
    "    this_fig = plt.gcf()\n",
    "    ax = plt.gca()\n",
    "    ax.grid(True)\n",
    "    this_fig.set_size_inches(8, 5)\n",
    "    return this_fig"
   ]
  },
  {
   "cell_type": "code",
   "execution_count": 616,
   "metadata": {},
   "outputs": [],
   "source": [
    "def make_plot_watts_by_date(df,idx,num_to_highlight, date_string):\n",
    "    plt.ioff()\n",
    "    \n",
    "    # data for plot\n",
    "    df_trunc = df[:idx]\n",
    "    #date_string = df_trunc['date_string'].iloc[-1]\n",
    "\n",
    "    x = df_trunc['watts']\n",
    "    y = df_trunc['hr']\n",
    "    \n",
    "    data_len = len(df_trunc['hr'])\n",
    "    \n",
    "    alphas = gen_alpha_new_new(df_trunc,num_to_highlight)\n",
    "    \n",
    "    rgba_colors = np.zeros((data_len,4))\n",
    "    rgba_colors[:,0] = 1.0\n",
    "    rgba_colors[:, 3] = alphas\n",
    "    \n",
    "    # plot\n",
    "    #fig = plt.figure()\n",
    "    fig, ax1 = plt.subplots()\n",
    "    ax1.scatter(x, y, color=rgba_colors)\n",
    "\n",
    "    ax1.set_ylim([146,164])\n",
    "    ax1.set_ylabel('Average Heart Rate')\n",
    "\n",
    "    ax1.set_xlim([145,200])\n",
    "    ax1.set_xlabel('Average Watts in 45 min')\n",
    "    \n",
    "    ax2 = ax1.twiny()\n",
    "    ax2.set_xlabel('Meters in 45 min')\n",
    "    ax2.set_xlim(145, 200)\n",
    "    ax2.set_xticks(w)\n",
    "    ax2.set_xticklabels(d_list)\n",
    "    ax2.grid(True)\n",
    "    \n",
    "    ax1.set_title('Heart rate and power over time (rowing)')\n",
    "    ax1.yaxis.grid(which='major')\n",
    "\n",
    "\n",
    "    plt.rcParams['axes.facecolor'] = 'white'\n",
    "    plt.rcParams['axes.edgecolor'] = 'black'\n",
    "    plt.rcParams['grid.alpha'] = 1\n",
    "    plt.rcParams['grid.color'] = \"#cccccc\"\n",
    "    plt.grid(True)\n",
    "\n",
    "    params = {'axes.titlesize': 'xx-large',\n",
    "             'legend.fontsize': 'large',\n",
    "             'figure.figsize': (15, 5),\n",
    "             'axes.labelsize': 'large',\n",
    "             'xtick.labelsize':'large',\n",
    "             'ytick.labelsize':'large'}\n",
    "\n",
    "    pylab.rcParams.update(params)\n",
    "    \n",
    "    \n",
    "    textstr = date_string\n",
    "    props = dict(boxstyle='round', facecolor='wheat', alpha=1)\n",
    "\n",
    "    # place a text box in upper left in axes coords\n",
    "    ax1.text(-0.1, 1.1, textstr, transform=ax1.transAxes, fontsize=11,\n",
    "            verticalalignment='top', bbox=props)\n",
    "    \n",
    "    plt.subplots_adjust(top=0.85)     # Add space at top\n",
    "    this_fig = plt.gcf()\n",
    "    ax = plt.gca()\n",
    "    ax.grid(True)\n",
    "    this_fig.set_size_inches(8, 5)\n",
    "    return this_fig"
   ]
  },
  {
   "cell_type": "code",
   "execution_count": 587,
   "metadata": {},
   "outputs": [
    {
     "data": {
      "image/png": "[encoded data removed]",
      "text/plain": [
       "<Figure size 576x360 with 2 Axes>"
      ]
     },
     "metadata": {
      "needs_background": "light"
     },
     "output_type": "display_data"
    }
   ],
   "source": [
    "idx = 51\n",
    "\n",
    "plt.close(fig)\n",
    "make_plot_watts_by_date(df,idx,0)\n",
    "plt.close(fig)"
   ]
  },
  {
   "cell_type": "code",
   "execution_count": 602,
   "metadata": {},
   "outputs": [
    {
     "data": {
      "text/html": [
       "<div>\n",
       "<style scoped>\n",
       "    .dataframe tbody tr th:only-of-type {\n",
       "        vertical-align: middle;\n",
       "    }\n",
       "\n",
       "    .dataframe tbody tr th {\n",
       "        vertical-align: top;\n",
       "    }\n",
       "\n",
       "    .dataframe thead th {\n",
       "        text-align: right;\n",
       "    }\n",
       "</style>\n",
       "<table border=\"1\" class=\"dataframe\">\n",
       "  <thead>\n",
       "    <tr style=\"text-align: right;\">\n",
       "      <th></th>\n",
       "      <th>day</th>\n",
       "      <th>date</th>\n",
       "      <th>distance</th>\n",
       "      <th>time</th>\n",
       "      <th>hr</th>\n",
       "      <th>rate</th>\n",
       "      <th>pace</th>\n",
       "      <th>datetime</th>\n",
       "      <th>date_sting</th>\n",
       "      <th>date_string</th>\n",
       "      <th>split</th>\n",
       "      <th>watts</th>\n",
       "    </tr>\n",
       "  </thead>\n",
       "  <tbody>\n",
       "    <tr>\n",
       "      <th>0</th>\n",
       "      <td>Tuesday</td>\n",
       "      <td>1/1/2019</td>\n",
       "      <td>10253</td>\n",
       "      <td>45</td>\n",
       "      <td>158.0</td>\n",
       "      <td>19</td>\n",
       "      <td>131.7</td>\n",
       "      <td>2019-01-01</td>\n",
       "      <td>01/01/2019</td>\n",
       "      <td>01/01/2019</td>\n",
       "      <td>131.668780</td>\n",
       "      <td>153.327343</td>\n",
       "    </tr>\n",
       "    <tr>\n",
       "      <th>1</th>\n",
       "      <td>Tuesday</td>\n",
       "      <td>1/1/2019</td>\n",
       "      <td>10227</td>\n",
       "      <td>45</td>\n",
       "      <td>158.0</td>\n",
       "      <td>19</td>\n",
       "      <td>132.0</td>\n",
       "      <td>2019-01-01</td>\n",
       "      <td>01/01/2019</td>\n",
       "      <td>01/01/2019</td>\n",
       "      <td>132.003520</td>\n",
       "      <td>152.163857</td>\n",
       "    </tr>\n",
       "    <tr>\n",
       "      <th>2</th>\n",
       "      <td>Wednesday</td>\n",
       "      <td>1/2/2019</td>\n",
       "      <td>10274</td>\n",
       "      <td>45</td>\n",
       "      <td>159.0</td>\n",
       "      <td>19</td>\n",
       "      <td>131.4</td>\n",
       "      <td>2019-01-02</td>\n",
       "      <td>01/02/2019</td>\n",
       "      <td>01/02/2019</td>\n",
       "      <td>131.399650</td>\n",
       "      <td>154.271401</td>\n",
       "    </tr>\n",
       "    <tr>\n",
       "      <th>3</th>\n",
       "      <td>Thursday</td>\n",
       "      <td>1/3/2019</td>\n",
       "      <td>10274</td>\n",
       "      <td>45</td>\n",
       "      <td>159.0</td>\n",
       "      <td>19</td>\n",
       "      <td>131.4</td>\n",
       "      <td>2019-01-03</td>\n",
       "      <td>01/03/2019</td>\n",
       "      <td>01/03/2019</td>\n",
       "      <td>131.399650</td>\n",
       "      <td>154.271401</td>\n",
       "    </tr>\n",
       "    <tr>\n",
       "      <th>4</th>\n",
       "      <td>Saturday</td>\n",
       "      <td>1/5/2019</td>\n",
       "      <td>10119</td>\n",
       "      <td>45</td>\n",
       "      <td>154.0</td>\n",
       "      <td>19</td>\n",
       "      <td>133.4</td>\n",
       "      <td>2019-01-05</td>\n",
       "      <td>01/05/2019</td>\n",
       "      <td>01/05/2019</td>\n",
       "      <td>133.412393</td>\n",
       "      <td>147.393906</td>\n",
       "    </tr>\n",
       "  </tbody>\n",
       "</table>\n",
       "</div>"
      ],
      "text/plain": [
       "         day      date  distance  time     hr  rate   pace    datetime  \\\n",
       "0    Tuesday  1/1/2019     10253    45  158.0    19  131.7  2019-01-01   \n",
       "1    Tuesday  1/1/2019     10227    45  158.0    19  132.0  2019-01-01   \n",
       "2  Wednesday  1/2/2019     10274    45  159.0    19  131.4  2019-01-02   \n",
       "3   Thursday  1/3/2019     10274    45  159.0    19  131.4  2019-01-03   \n",
       "4   Saturday  1/5/2019     10119    45  154.0    19  133.4  2019-01-05   \n",
       "\n",
       "   date_sting date_string       split       watts  \n",
       "0  01/01/2019  01/01/2019  131.668780  153.327343  \n",
       "1  01/01/2019  01/01/2019  132.003520  152.163857  \n",
       "2  01/02/2019  01/02/2019  131.399650  154.271401  \n",
       "3  01/03/2019  01/03/2019  131.399650  154.271401  \n",
       "4  01/05/2019  01/05/2019  133.412393  147.393906  "
      ]
     },
     "execution_count": 602,
     "metadata": {},
     "output_type": "execute_result"
    }
   ],
   "source": [
    "df.head()"
   ]
  },
  {
   "cell_type": "code",
   "execution_count": 617,
   "metadata": {},
   "outputs": [],
   "source": [
    "start_date = df['datetime'].iloc[0]\n",
    "\n",
    "idx = 1\n",
    "\n",
    "fig_count = 1\n",
    "\n",
    "for days in range(156):\n",
    "    this_date = start_date + timedelta(days=days)    \n",
    "    this_num = sum(df['datetime']==this_date)\n",
    "    date_string = date_to_str(this_date)\n",
    "    fig = make_plot_watts_by_date(df,idx,this_num,date_string)\n",
    "      \n",
    "    fig.savefig(f'for_gif/by_date/{fig_count:03d}.png', dpi=100)\n",
    "    plt.close(fig)\n",
    "    \n",
    "    fig_count += 1\n",
    "    \n",
    "    idx += this_num  \n",
    "    \n",
    "    "
   ]
  },
  {
   "cell_type": "code",
   "execution_count": 613,
   "metadata": {},
   "outputs": [
    {
     "data": {
      "text/plain": [
       "datetime.date(2019, 6, 6)"
      ]
     },
     "execution_count": 613,
     "metadata": {},
     "output_type": "execute_result"
    }
   ],
   "source": [
    "this_date = start_date + timedelta(days=156) \n",
    "this_date"
   ]
  },
  {
   "cell_type": "code",
   "execution_count": 539,
   "metadata": {},
   "outputs": [],
   "source": [
    "data_len = len(df)\n",
    "#data_len = 10\n",
    "\n",
    "for idx in range(1, data_len + 1):\n",
    "    fig = make_plot_watts(df,idx)\n",
    "    fig.savefig(f'for_gif/watts2/{idx:03d}.png', dpi=100)\n",
    "    plt.close(fig)\n",
    "    \n",
    "extra = 10\n",
    "\n",
    "for idx in range(data_len + 1,data_len + 1 + extra):\n",
    "    fig = make_plot_watts(df,data_len)\n",
    "    fig.savefig(f'for_gif/watts2/{idx:03d}.png', dpi=100)\n",
    "    plt.close(fig)"
   ]
  },
  {
   "cell_type": "code",
   "execution_count": 540,
   "metadata": {},
   "outputs": [],
   "source": []
  },
  {
   "cell_type": "code",
   "execution_count": 618,
   "metadata": {},
   "outputs": [],
   "source": [
    "file_list = files_from_dir('for_gif/by_date')\n",
    "file_list.sort()\n",
    "\n",
    "images = []\n",
    "for file in file_list:\n",
    "    path = os.path.join('for_gif/by_date',file)\n",
    "    images.append(imageio.imread(path))\n",
    "\n",
    "imageio.mimsave('gif/by_date.gif', images)"
   ]
  },
  {
   "cell_type": "code",
   "execution_count": 222,
   "metadata": {},
   "outputs": [],
   "source": [
    "w = np.linspace(145,200)\n",
    "w = np.linspace(1,500)"
   ]
  },
  {
   "cell_type": "code",
   "execution_count": 223,
   "metadata": {},
   "outputs": [
    {
     "data": {
      "text/plain": [
       "array([  1.        ,  11.18367347,  21.36734694,  31.55102041,\n",
       "        41.73469388,  51.91836735,  62.10204082,  72.28571429,\n",
       "        82.46938776,  92.65306122, 102.83673469, 113.02040816,\n",
       "       123.20408163, 133.3877551 , 143.57142857, 153.75510204,\n",
       "       163.93877551, 174.12244898, 184.30612245, 194.48979592,\n",
       "       204.67346939, 214.85714286, 225.04081633, 235.2244898 ,\n",
       "       245.40816327, 255.59183673, 265.7755102 , 275.95918367,\n",
       "       286.14285714, 296.32653061, 306.51020408, 316.69387755,\n",
       "       326.87755102, 337.06122449, 347.24489796, 357.42857143,\n",
       "       367.6122449 , 377.79591837, 387.97959184, 398.16326531,\n",
       "       408.34693878, 418.53061224, 428.71428571, 438.89795918,\n",
       "       449.08163265, 459.26530612, 469.44897959, 479.63265306,\n",
       "       489.81632653, 500.        ])"
      ]
     },
     "execution_count": 223,
     "metadata": {},
     "output_type": "execute_result"
    }
   ],
   "source": [
    "w"
   ]
  },
  {
   "cell_type": "code",
   "execution_count": 224,
   "metadata": {},
   "outputs": [],
   "source": [
    "s = (2.8/w)**(1/3)*500"
   ]
  },
  {
   "cell_type": "code",
   "execution_count": 225,
   "metadata": {},
   "outputs": [
    {
     "data": {
      "text/plain": [
       "array([704.72987321, 315.13346301, 253.96418841, 223.02397134,\n",
       "       203.16876345, 188.90741526, 177.95931443, 169.17591049,\n",
       "       161.90431542, 155.74092765, 150.42034786, 145.75956303,\n",
       "       141.62751971, 137.92744573, 134.58603774, 131.5465622 ,\n",
       "       128.76429444, 126.20341084, 123.83481529, 121.63458412,\n",
       "       119.58283109, 117.66286422, 115.86054932, 114.16382287,\n",
       "       112.56231415, 111.04704896, 109.61021458, 108.24497163,\n",
       "       106.94530212, 105.70588566, 104.52199786, 103.38942634,\n",
       "       102.30440085, 101.26353484, 100.26377613,  99.30236527,\n",
       "        98.37680001,  97.48480507,  96.62430597,  95.7934067 ,\n",
       "        94.99037016,  94.21360136,  93.46163258,  92.73311056,\n",
       "        92.0267851 ,  91.34149912,  90.67617981,  90.02983084,\n",
       "        89.40152544,  88.79040017])"
      ]
     },
     "execution_count": 225,
     "metadata": {},
     "output_type": "execute_result"
    }
   ],
   "source": [
    "s "
   ]
  },
  {
   "cell_type": "code",
   "execution_count": 226,
   "metadata": {},
   "outputs": [],
   "source": [
    "#s * 500\n",
    "d = 45 * 60 * 500 / s"
   ]
  },
  {
   "cell_type": "code",
   "execution_count": 259,
   "metadata": {},
   "outputs": [
    {
     "data": {
      "text/plain": [
       "array([150.96186557, 160.01723315, 169.42766855, 179.2       ,\n",
       "       189.34105573, 199.85766397])"
      ]
     },
     "execution_count": 259,
     "metadata": {},
     "output_type": "execute_result"
    }
   ],
   "source": [
    "d_list = ['10,200','10,400','10,600','10,800','11,000','11,200']\n",
    "d = np.array([10200,10400,10600,10800,11000,11200])\n",
    "s = 45 * 60 * 500 / d\n",
    "w = 2.8/((s/500)**3)\n",
    "w"
   ]
  },
  {
   "cell_type": "code",
   "execution_count": 248,
   "metadata": {},
   "outputs": [],
   "source": [
    "#plt.plot(w,d)"
   ]
  },
  {
   "cell_type": "code",
   "execution_count": null,
   "metadata": {},
   "outputs": [],
   "source": [
    "def make_plot_watts(df,idx):\n",
    "    plt.ioff()\n",
    "    \n",
    "    # data for plot\n",
    "    df_trunc = df[:idx]\n",
    "\n",
    "    x = df_trunc['watts']\n",
    "    y = df_trunc['hr']\n",
    "    \n",
    "    data_len = len(df_trunc['hr'])\n",
    "    \n",
    "    alphas = gen_alpha_new(df_trunc)\n",
    "    \n",
    "    rgba_colors = np.zeros((data_len,4))\n",
    "    rgba_colors[:,0] = 1.0\n",
    "    rgba_colors[:, 3] = alphas\n",
    "    \n",
    "    # plot\n",
    "    fig = plt.figure()\n",
    "    ax1 = fig.add_subplot(111)\n",
    "\n",
    "    ax1.scatter(x, y, color=rgba_colors)\n",
    "\n",
    "    ax1.ylim([146,164])\n",
    "    ax1.ylabel('Average Heart Rate')\n",
    "\n",
    "    ax1.xlim([145,200])\n",
    "    ax1.xlabel('Average Watts in 45 min')\n",
    "    \n",
    "    ax2 = ax1.twiny()\n",
    "    ax2.set_xlabel('Meters in 45 min')\n",
    "    ax2.set_xlim(145, 200)\n",
    "    ax2.set_xticks(w)\n",
    "    ax2.set_xticklabels(d_list)\n",
    "\n",
    "    plt.rcParams['axes.facecolor'] = 'white'\n",
    "    plt.rcParams['axes.edgecolor'] = 'black'\n",
    "    plt.rcParams['grid.alpha'] = 1\n",
    "    plt.rcParams['grid.color'] = \"#cccccc\"\n",
    "    plt.grid(True)\n",
    "\n",
    "    params = {'legend.fontsize': 'large',\n",
    "              'figure.figsize': (15, 5),\n",
    "             'axes.labelsize': 'large',\n",
    "             'axes.titlesize':'large',\n",
    "             'xtick.labelsize':'large',\n",
    "             'ytick.labelsize':'large'}\n",
    "\n",
    "    pylab.rcParams.update(params)\n",
    "\n",
    "    this_fig = plt.gcf()\n",
    "    this_fig.set_size_inches(8, 5)\n",
    "    return this_fig"
   ]
  }
 ],
 "metadata": {
  "kernelspec": {
   "display_name": "Python 3",
   "language": "python",
   "name": "python3"
  },
  "language_info": {
   "codemirror_mode": {
    "name": "ipython",
    "version": 3
   },
   "file_extension": ".py",
   "mimetype": "text/x-python",
   "name": "python",
   "nbconvert_exporter": "python",
   "pygments_lexer": "ipython3",
   "version": "3.6.8"
  }
 },
 "nbformat": 4,
 "nbformat_minor": 2
}
